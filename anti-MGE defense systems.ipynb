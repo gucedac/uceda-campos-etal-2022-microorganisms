{
 "cells": [
  {
   "cell_type": "markdown",
   "id": "08e20d8a",
   "metadata": {},
   "source": [
    "### **Prediction with PADLOC**"
   ]
  },
  {
   "cell_type": "code",
   "execution_count": 2,
   "id": "d0a0f8e0",
   "metadata": {},
   "outputs": [
    {
     "name": "stdout",
     "output_type": "stream",
     "text": [
      "padloc --fna genome_Xf1.fna --force\n"
     ]
    }
   ],
   "source": [
    "padloc_command = 'padloc --fna genome_Xf1.fna --force'\n",
    "print(padloc_command)"
   ]
  },
  {
   "cell_type": "markdown",
   "id": "41b13d39",
   "metadata": {},
   "source": [
    "### **Prediction with CRISPRCasTyper** "
   ]
  },
  {
   "cell_type": "code",
   "execution_count": 3,
   "id": "262211ed",
   "metadata": {},
   "outputs": [
    {
     "name": "stdout",
     "output_type": "stream",
     "text": [
      "cctyper --fna genome_Xf1.fna genome_Xf1_out_dir/\n"
     ]
    }
   ],
   "source": [
    "cctyper_command = 'cctyper --fna genome_Xf1.fna genome_Xf1_out_dir/'\n",
    "print(cctyper_command)"
   ]
  },
  {
   "cell_type": "markdown",
   "id": "a6957d38",
   "metadata": {},
   "source": [
    "### PICI genes searching "
   ]
  },
  {
   "cell_type": "code",
   "execution_count": null,
   "id": "1e3b6532",
   "metadata": {},
   "outputs": [],
   "source": [
    "# 1. Downloaded the data supplementary of the publication https://www.nature.com/articles/s41396-018-0156-3\n",
    "# 2. Retrieve the proteins from each PICI system\n",
    "# 3. Build hmm (HMMERv3.3.2) profiles for the PICIC proteins\n",
    "# 4. Use hmmscan (HMMERv3.3.2) to search homologous proteins of PICIs\n",
    "# 5. Analize the clusters of PICIs proteins found in the genome"
   ]
  }
 ],
 "metadata": {
  "kernelspec": {
   "display_name": "Python 3 (ipykernel)",
   "language": "python",
   "name": "python3"
  },
  "language_info": {
   "codemirror_mode": {
    "name": "ipython",
    "version": 3
   },
   "file_extension": ".py",
   "mimetype": "text/x-python",
   "name": "python",
   "nbconvert_exporter": "python",
   "pygments_lexer": "ipython3",
   "version": "3.9.5"
  }
 },
 "nbformat": 4,
 "nbformat_minor": 5
}
