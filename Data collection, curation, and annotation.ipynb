{
 "cells": [
  {
   "cell_type": "markdown",
   "id": "4d0f00f4",
   "metadata": {},
   "source": [
    "### **CheckM analysis**"
   ]
  },
  {
   "cell_type": "code",
   "execution_count": 6,
   "id": "e4192041",
   "metadata": {},
   "outputs": [
    {
     "name": "stdout",
     "output_type": "stream",
     "text": [
      "checkm lineage_wf -t 8 genome_Xf1_dir/ genome_Xf1_checkm_output_dir\n"
     ]
    }
   ],
   "source": [
    "checkm_command = 'checkm lineage_wf -t 8 genome_Xf1_dir/ genome_Xf1_checkm_output_dir'\n",
    "print(checkm_command)"
   ]
  },
  {
   "cell_type": "markdown",
   "id": "969be4a9",
   "metadata": {},
   "source": [
    "### **Quast analysis**"
   ]
  },
  {
   "cell_type": "code",
   "execution_count": 5,
   "id": "df379184",
   "metadata": {},
   "outputs": [
    {
     "name": "stdout",
     "output_type": "stream",
     "text": [
      "quast -o genomes_Xf_quast_output_dir/ genomes_Xf_dir/*.fna\n"
     ]
    }
   ],
   "source": [
    "quast_command = str('quast -o genomes_Xf_quast_output_dir/ genomes_Xf_dir/*.fna')\n",
    "print(quast_command)"
   ]
  },
  {
   "cell_type": "markdown",
   "id": "c1f951a9",
   "metadata": {},
   "source": [
    "### **ANI analysis (to remove redundance genomes)**"
   ]
  },
  {
   "cell_type": "code",
   "execution_count": 8,
   "id": "1369fe1b",
   "metadata": {},
   "outputs": [
    {
     "name": "stdout",
     "output_type": "stream",
     "text": [
      "average_nucleotide_identity.py -i genomes_Xf_dir -o genomes_Xf_ANI_dir -m ANIb -g\n"
     ]
    }
   ],
   "source": [
    "pyani_command = 'average_nucleotide_identity.py -i genomes_Xf_dir/ -o genomes_Xf_ANI_dir/ -m ANIb -g'\n",
    "print(pyani_command)"
   ]
  },
  {
   "cell_type": "markdown",
   "id": "193e9d16",
   "metadata": {},
   "source": [
    "### **PGAP annotation**"
   ]
  },
  {
   "cell_type": "code",
   "execution_count": 9,
   "id": "8ca27739",
   "metadata": {},
   "outputs": [
    {
     "name": "stdout",
     "output_type": "stream",
     "text": [
      "pgap.py --debug -r -o genome_Xf1_pgap_dir/ input.yaml\n"
     ]
    }
   ],
   "source": [
    "pgap_command = 'pgap.py --debug -r -o genome_Xf1_pgap_dir/ input.yaml'\n",
    "# to make a input.yaml see: https://github.com/ncbi/pgap/wiki/Input-Files\n",
    "print(pgap_command)"
   ]
  },
  {
   "cell_type": "markdown",
   "id": "4374f83c",
   "metadata": {},
   "source": [
    "### **Metadata collection (Host and Country)**"
   ]
  },
  {
   "cell_type": "code",
   "execution_count": 12,
   "id": "e62b13d0",
   "metadata": {},
   "outputs": [],
   "source": [
    "from Bio import Entrez\n",
    "Entrez.email = 'gucedacampos@ime.usp.br'\n",
    "\n",
    "id_biosample = 'id_biosample_genome_Xf1'\n",
    "handle = Entrez.esummary(db='biosample',id=id_biosample)\n",
    "record = Entrez.read(handle)\n",
    "host , country = get_host_country(record)\n",
    "\n",
    "def get_host_country(record):\n",
    "    '''use an Entrez read object from Entrez.esummary(db='biosample')\n",
    "       to retrieve the host and country information'''\n",
    "    attributes=recs['DocumentSummarySet']['DocumentSummary'][0]['SampleData']\n",
    "    root = ET.fromstring(attributes)\n",
    "    host,country = '',''\n",
    "    for elem in root.iter():\n",
    "        if 'attribute_name' in elem.attrib:\n",
    "            if elem.text is not None and elem.text.strip():\n",
    "                if elem.attrib['attribute_name'] == 'host':\n",
    "                    host = elem.text\n",
    "                if elem.attrib['attribute_name'] == 'geo_loc_name':\n",
    "                    country = elem.text\n",
    "    return host,country"
   ]
  },
  {
   "cell_type": "markdown",
   "id": "fb6786df",
   "metadata": {},
   "source": [
    "### **MLST analysis (Sequence typing)**"
   ]
  },
  {
   "cell_type": "code",
   "execution_count": 15,
   "id": "28aef8f2",
   "metadata": {},
   "outputs": [
    {
     "name": "stdout",
     "output_type": "stream",
     "text": [
      "blastn -db PubMLST_locus.fas  -query genome_Xf1.ffn -out genome_Xf1.mlst -max_target_seqs 1 -outfmt \"6 qseqid sseqid pident qcovs evalue\"\n"
     ]
    }
   ],
   "source": [
    "# Allele sequences and MLST profiles were downloaded from\n",
    "# https://pubmlst.org/bigsdb?db=pubmlst_xfastidiosa_seqdef\n",
    "# Then, for each Xf genome was found its respective ST using blastn\n",
    "blast_command = 'blastn -db PubMLST_locus.fas '+' -query genome_Xf1.ffn -out genome_Xf1.mlst -max_target_seqs 1 -outfmt \"6 qseqid sseqid pident qcovs evalue\"'\n",
    "print(blast_command)"
   ]
  }
 ],
 "metadata": {
  "kernelspec": {
   "display_name": "Python [conda env:bioinfo]",
   "language": "python",
   "name": "conda-env-bioinfo-py"
  },
  "language_info": {
   "codemirror_mode": {
    "name": "ipython",
    "version": 3
   },
   "file_extension": ".py",
   "mimetype": "text/x-python",
   "name": "python",
   "nbconvert_exporter": "python",
   "pygments_lexer": "ipython3",
   "version": "3.9.5"
  }
 },
 "nbformat": 4,
 "nbformat_minor": 5
}
