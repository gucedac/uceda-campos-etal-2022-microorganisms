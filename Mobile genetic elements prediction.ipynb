{
 "cells": [
  {
   "cell_type": "markdown",
   "id": "15bc7be5",
   "metadata": {},
   "source": [
    "### **Prediction with Virsorter2** "
   ]
  },
  {
   "cell_type": "code",
   "execution_count": 1,
   "id": "93f48057",
   "metadata": {},
   "outputs": [
    {
     "name": "stdout",
     "output_type": "stream",
     "text": [
      "virsorter run -w genome_Xf1_out_dir/ -i genome_Xf1.fna -j 10 all\n"
     ]
    }
   ],
   "source": [
    "vs2_command = 'virsorter run -w genome_Xf1_out_dir/ -i genome_Xf1.fna -j 10 all'\n",
    "print(vs2_command)"
   ]
  },
  {
   "cell_type": "markdown",
   "id": "4dd00afd",
   "metadata": {},
   "source": [
    "### **Prediction with Inovirus_detector** "
   ]
  },
  {
   "cell_type": "code",
   "execution_count": 4,
   "id": "76f080b3",
   "metadata": {},
   "outputs": [
    {
     "name": "stdout",
     "output_type": "stream",
     "text": [
      "perl Identify_candidate_fragments_from_gbk.pl -g genome_Xf1.gbk -p /Inovirus_detector/Pfam-A.hmm -sp /inovirus_detector/bin/signalp -th /inovirus_detector/bin/tmhmm -d Inovirus_detector/Inovirus_db\n",
      "\n",
      "perl Get_inovirus_prediction_score_from_gff_fragments.pl-i candidate_gff_from_inovirus_comand1 -f candidate_fna_from_inovirus_comand1\n"
     ]
    }
   ],
   "source": [
    "inovirus_comand1 = str('perl Identify_candidate_fragments_from_gbk.pl -g genome_Xf1.gbk '+\\\n",
    "                       '-p /Inovirus_detector/Pfam-A.hmm '+\\\n",
    "                       '-sp /inovirus_detector/bin/signalp '+\\\n",
    "                       '-th /inovirus_detector/bin/tmhmm '+\\\n",
    "                       '-d Inovirus_detector/Inovirus_db')\n",
    "inovirus_comand2 = 'perl Get_inovirus_prediction_score_from_gff_fragments.pl'+\\\n",
    "                   '-i candidate_gff_from_inovirus_comand1 -f candidate_fna_from_inovirus_comand1'\n",
    "print(inovirus_comand1)\n",
    "print()\n",
    "print(inovirus_comand2)"
   ]
  },
  {
   "cell_type": "markdown",
   "id": "408aa1aa",
   "metadata": {},
   "source": [
    "### **Prediction with PHASTER**  "
   ]
  },
  {
   "cell_type": "code",
   "execution_count": 7,
   "id": "4f2cd59c",
   "metadata": {},
   "outputs": [
    {
     "name": "stdout",
     "output_type": "stream",
     "text": [
      "https://phaster.ca/\n"
     ]
    }
   ],
   "source": [
    "# Phaster server was used as follows:\n",
    "phaster_web = 'https://phaster.ca/'\n",
    "print(phaster_web)"
   ]
  },
  {
   "cell_type": "markdown",
   "id": "f419c83f",
   "metadata": {},
   "source": [
    "### **Prediction with SeqWord Sniffer**"
   ]
  },
  {
   "cell_type": "code",
   "execution_count": 8,
   "id": "aee8888c",
   "metadata": {},
   "outputs": [
    {
     "name": "stdout",
     "output_type": "stream",
     "text": [
      "SeqWordSniffer.py -f genome_Xf1.fna\n"
     ]
    }
   ],
   "source": [
    "seqword_sniffer_comand = 'SeqWordSniffer.py -f genome_Xf1.fna'\n",
    "print(seqword_sniffer_comand)"
   ]
  },
  {
   "cell_type": "markdown",
   "id": "51ae2f2f",
   "metadata": {},
   "source": [
    "### **Prediction with GIPSy**"
   ]
  },
  {
   "cell_type": "code",
   "execution_count": 9,
   "id": "8ff7cc5f",
   "metadata": {},
   "outputs": [
    {
     "name": "stdout",
     "output_type": "stream",
     "text": [
      "https://www.bioinformatics.org/download/gipsy/Manual.pdf\n"
     ]
    }
   ],
   "source": [
    "# It was used the User Interfase of GIPSy\n",
    "gipsy_manual = 'https://www.bioinformatics.org/download/gipsy/Manual.pdf'\n",
    "print(gipsy_manual)"
   ]
  },
  {
   "cell_type": "markdown",
   "id": "461051a5",
   "metadata": {},
   "source": [
    "### **Prediction with ISEScan** "
   ]
  },
  {
   "cell_type": "code",
   "execution_count": 10,
   "id": "89704a93",
   "metadata": {},
   "outputs": [
    {
     "name": "stdout",
     "output_type": "stream",
     "text": [
      "isescan.py --nthread 4 --seqfile genome_Xf1.fna --output genome_Xf1_result\n"
     ]
    }
   ],
   "source": [
    "isescan_comand = 'isescan.py --nthread 4 --seqfile genome_Xf1.fna --output genome_Xf1_result'\n",
    "print(isescan_comand)"
   ]
  },
  {
   "cell_type": "markdown",
   "id": "1e7a57ae",
   "metadata": {},
   "source": [
    "### Mobilome Integration "
   ]
  },
  {
   "cell_type": "code",
   "execution_count": 13,
   "id": "34cbc645",
   "metadata": {},
   "outputs": [],
   "source": [
    "# Models of the matrix organization to the next function\n",
    "# mge1_matrix = [['Temecula1_phCons-1', 'NC_004556.1', 446956, 480076, 'Temecula1_Phaster-1$intact'],\n",
    "#               ['Temecula1_phCons-2', 'NC_004556.1', 942607, 968337, 'Temecula1_Phaster-2$incomplete'],\n",
    "#               ['Temecula1_phCons-3', 'NC_004556.1', 1120090, 1125199, 'Temecula1_Phaster-3$questionable'],\n",
    "#               ['Temecula1_phCons-4', 'NC_004556.1', 1127842, 1141158, 'Temecula1_Inov-1$att:True'],\n",
    "#               ['Temecula1_phCons-5', 'NC_004556.1', 1161143, 1180387, 'Temecula1_Phaster-5$questionable'],\n",
    "#               ['Temecula1_phCons-6', 'NC_004556.1', 1194458, 1220728, 'Temecula1_Phaster-6$intact'],...]\n",
    "\n",
    "# mge2_matrix = [['Temecula1_giCons-1', 'NC_004556.1', 1, 18099, 'Temecula1_sws-1$NA'],\n",
    "#                ['Temecula1_giCons-2', 'NC_004556.1', 57500, 79099, 'Temecula1_sws-2$NA'],\n",
    "#                ['Temecula1_giCons-3', 'NC_004556.1', 154000, 172099, 'Temecula1_sws-3$NA'],\n",
    "#                ['Temecula1_giCons-4', 'NC_004556.1', 453610, 468384, 'Temecula1_gipsy-1$patho'],\n",
    "#                ['Temecula1_giCons-5', 'NC_004556.1', 1079500, 1101099, 'Temecula1_sws-5$NA'],\n",
    "#                ['Temecula1_giCons-6', 'NC_004556.1', 1128000, 1150099, 'Temecula1_sws-6$NA'], ... ]"
   ]
  },
  {
   "cell_type": "code",
   "execution_count": 14,
   "id": "1ba212b7",
   "metadata": {},
   "outputs": [],
   "source": [
    "def integration_prophages_genomicisland(mge1_matrix , mge2_matrix):\n",
    "    ''' This function takes one matrix of prophages results and one matrix of genomic island results,\n",
    "        and return a consensus prioritizing the prophage regions '''\n",
    "    # Retriving locations\n",
    "    dic_ph_considered = {}\n",
    "    dic_gi_considered = {}\n",
    "    for gi_list in mge2_matrix:         \n",
    "        for ph_list in mge1_matrix:      \n",
    "            if gi_list[1] == ph_list[1]:\n",
    "                id1,loc1 = ph_list[:2]\n",
    "                id2,loc2 = gi_list[:2]\n",
    "                \n",
    "                s1,e1,f1 = ph_list[2],ph_list[3],ph_list[4]\n",
    "                s2,e2,f2 = gi_list[2],gi_list[3],gi_list[4]\n",
    "                l1 , l2 = e1-s1+1 , e2-s2+1\n",
    "                \n",
    "                # CASE 1: gi is into ph\n",
    "                if (s2 >= s1 and e2 <= e1):\n",
    "                    dic_gi_considered[id2+'-case1'] = 'not'\n",
    "                    if (not id1 in list(i.split('-case')[0] for i in list(dic_ph_considered))):\n",
    "                        make = [10,(id1),(loc1,loc2),(s1,e1),(f1)]\n",
    "                        dic_ph_considered[id1+'-case1'] = make\n",
    "                    \n",
    "                # CASE 2: ph is into gi\n",
    "                elif (s2 <= s1 and s2 <= e1) and (e2 > s1 and e2 >= e1):\n",
    "                    dic_gi_considered[id2+'-case2'] = 'not'\n",
    "                    if (not id1 in list(i.split('-case')[0] for i in list(dic_ph_considered))):\n",
    "                        make = [20,(id1),(loc1,loc2),(s1,e1),(f1)]\n",
    "                        dic_ph_considered[id1+'-case2'] = make\n",
    "                    \n",
    "                # CASE 3: gi at the left\n",
    "                elif (s2 <= s1) and (e2 > s1) and (e2 < e1):\n",
    "                    dic_gi_considered[id2+'-case3'] = 'not'\n",
    "                    if (not id1 in list(i.split('-case')[0] for i in list(dic_ph_considered))):\n",
    "                        perc_overlap = round((e2 - s1)/ l1 * 100 , 2)\n",
    "                        if perc_overlap <= 15:\n",
    "                            make = [30,(id2),(loc1,loc2),(s2,s1-1000),(f2)]\n",
    "                            dic_gi_considered[id2+'-case3'] = make\n",
    "                            make = [30,(id1),(loc1,loc2),(s1,e1),(f1)]\n",
    "                            dic_ph_considered[id1+'-case3'] = make\n",
    "                        else:\n",
    "                            make = [30,(id1),(loc1,loc2),(s1,e1),(f1)]\n",
    "                            dic_ph_considered[id1+'-case3'] = make\n",
    "                        \n",
    "                    else:\n",
    "                        pass\n",
    "\n",
    "                # CASE 4: mge2 at the right \n",
    "                elif (s2 > s1) and (s2 < e1) and (e2 > e1):\n",
    "                    #print('right',id1,s1,e1,id2,s2,e2)\n",
    "                    dic_gi_considered[id2+'-case4'] = 'not'\n",
    "                    if (not id1 in list(i.split('-case')[0] for i in list(dic_ph_considered))):\n",
    "                        perc_overlap = round((e1 - s2)/ l1 * 100 , 2)\n",
    "                        if (perc_overlap <= 15):\n",
    "                            make = [40,(id2),(loc1,loc2),(e1+1000,e2),(f2)]\n",
    "                            dic_gi_considered[id2+'-case4'] = make\n",
    "                            make = [40,(id1),(loc1,loc2),(s1,e1),(f1)]\n",
    "                            dic_ph_considered[id1+'-case4'] = make\n",
    "                        else:\n",
    "                            make = [40,(id1),(loc1,loc2),(s1,e1),(f1)]\n",
    "                            dic_ph_considered[id1+'-case4'] = make\n",
    "                    else:\n",
    "                        perc_overlap = round((e1 - s2)/ l1 * 100 , 2)\n",
    "                        if perc_overlap <= 15:\n",
    "                            print(id2,perc_overlap)\n",
    "                            make = [40,(id2),(loc1,loc2),(e1+1000,e2),(f2)]\n",
    "                            dic_gi_considered[id1+'-case4'] = make\n",
    "                        else:\n",
    "                            pass\n",
    "                else:\n",
    "                    pass\n",
    "            else:\n",
    "                pass\n",
    "    \n",
    "    for gi_list in mge2_matrix: \n",
    "        for ph_list in mge1_matrix: \n",
    "            # CASE 5: ph is not in overlaping        \n",
    "            if (not ph_list[0] in list(i.split('-case')[0] for i in list(dic_ph_considered))):\n",
    "                make = [50,(ph_list[0]),('Non-loc1',ph_list[1]),\n",
    "                        (ph_list[2],ph_list[3]),(ph_list[4])]\n",
    "                dic_ph_considered[ph_list[0]+'-case5'] = make\n",
    "            # CASE 6: gi is not in overlaping\n",
    "            if (not gi_list[0] in list(i.split('-case')[0] for i in list(dic_gi_considered))):\n",
    "                make = [60,(gi_list[0]) , (gi_list[1],'Non-loc2'),\n",
    "                         (gi_list[2],gi_list[3]) , (gi_list[4])]\n",
    "                dic_gi_considered[gi_list[0]+'-case6'] = make\n",
    "    \n",
    "    dic_ph_considered.update(dic_gi_considered)\n",
    "    # making general list of the consensus\n",
    "    consensus = []\n",
    "    for k,v in dic_ph_considered.items():\n",
    "        if v != 'not':\n",
    "            cons_colum_1 = v[1]\n",
    "            cons_colum_2 = ''\n",
    "            for loc in v[2]:\n",
    "                if not loc.startswith('Non-loc'):\n",
    "                    cons_colum_2 = loc\n",
    "            cons_colum_3 = v[3][0]\n",
    "            cons_colum_4 = v[3][1]\n",
    "            cons_colum_5 = v[4]\n",
    "            consensus.append([cons_colum_1,cons_colum_2,cons_colum_3,cons_colum_4,cons_colum_5])\n",
    "    return consensus"
   ]
  },
  {
   "cell_type": "code",
   "execution_count": 15,
   "id": "fb9fe962",
   "metadata": {},
   "outputs": [],
   "source": [
    "# Models of the matrix organization to the next function\n",
    "# ph_gi_matrix = [['Temecula1_phCons-1', 'NC_004556.1', 446956, 480076, 'Temecula1_Phaster-1$intact'],\n",
    "#                 ['Temecula1_phCons-4', 'NC_004556.1', 1127842, 1141158, 'Temecula1_Inov-1$att:True'],\n",
    "#                 ['Temecula1_phCons-5', 'NC_004556.1', 1161143, 1180387, 'Temecula1_Phaster-5$questionable'],\n",
    "#                 ...\n",
    "#                 ['Temecula1_giCons-5', 'NC_004556.1', 1079500, 1101099, 'Temecula1_sws-5$NA'],\n",
    "#                 ['Temecula1_giCons-10', 'NC_004556.1', 1441831, 1458553, 'Temecula1_sws-8$NA'],\n",
    "#                 ['Temecula1_giCons-11', 'NC_004556.1', 1645000, 1662599, 'Temecula1_sws-9$NA'], ...]\n",
    "\n",
    "# is_matrix = [['Temecula1_isCons-1', 'NC_004556.1', 180, 1563, 'Temecula1_isescan-1$IS21'],\n",
    "#              ['Temecula1_isCons-2', 'NC_004556.1', 1155657, 1156053, 'Temecula1_isescan-2$IS200/IS605'],\n",
    "#              ['Temecula1_isCons-3', 'NC_004556.1', 1386787, 1388482, 'Temecula1_isescan-3$IS200/IS605'],\n",
    "#              ['Temecula1_isCons-4', 'NC_004556.1', 1560835, 1561745, 'Temecula1_isescan-4$IS6'],\n",
    "#              ['Temecula1_isCons-5', 'NC_004556.1', 1907576, 1909682, 'Temecula1_isescan-5$IS1595']]"
   ]
  },
  {
   "cell_type": "code",
   "execution_count": 16,
   "id": "d16d52f7",
   "metadata": {},
   "outputs": [],
   "source": [
    "def integration_prophages_genomicisland_insertionsequences(ph_gi_matrix , is_matrix):\n",
    "    ''' This function takes the results of integration_prophages_genomicisland() function,\n",
    "        and integrate the insertion sequences regions '''\n",
    "    dic_is_considered = {}\n",
    "    for is_list in is_matrix:\n",
    "        for ph_gi_list in ph_gi_matrix:\n",
    "            if is_list[1] == ph_gi_list[1]:\n",
    "                id1,loc1 = ph_gi_list[:2]\n",
    "                id2,loc2 = is_list[:2]\n",
    "                s1,e1,f1 = ph_gi_list[2],ph_gi_list[3],ph_gi_list[4]\n",
    "                s2,e2,f2 = is_list[2],is_list[3],is_list[4]\n",
    "\n",
    "                if (not id2 in list(i.split('-into-')[0] for i in list(dic_is_considered))):\n",
    "                    if  (s2 >= s1 and e2 <= e1) or \\\n",
    "                        ((s2 <= s1) and (e2 > s1) and (e2 < e1)) or \\\n",
    "                        ((s2 >  s1) and (s2 < e1) and (e2 > e1)) :\n",
    "                        if '_ph' in id1:\n",
    "                            dic_is_considered[id2+'-into-ph'] = is_list[:-1] + [is_list[-1]+'$into-ph']\n",
    "                        else:\n",
    "                            dic_is_considered[id2+'-into-gi'] = is_list[:-1] + [is_list[-1]+'$into-gi']\n",
    "            \n",
    "    for is_list in is_matrix:\n",
    "        if (not is_list[0] in list(i.split('-into-')[0] for i in list(dic_is_considered))):\n",
    "            if dic_contig_type[is_list[1]] == 'pls':\n",
    "                dic_is_considered[is_list[0]+'-into-pls'] = is_list[:-1] + [is_list[-1]+'$into-pls']\n",
    "            elif dic_contig_type[is_list[1]] == 'chr':\n",
    "                dic_is_considered[is_list[0]+'-into-chr'] = is_list[:-1] + [is_list[-1]+'$into-chr']\n",
    "            \n",
    "    consensus = []        \n",
    "    for ph_gi in ph_gi_matrix:\n",
    "        if dic_contig_type[ph_gi[1]] == 'pls':\n",
    "            ph_gi[4] = ph_gi[4] + '$into-pls'\n",
    "        elif dic_contig_type[ph_gi[1]] == 'chr':\n",
    "            ph_gi[4] = ph_gi[4] + '$into-chr'\n",
    "        consensus.append(ph_gi)\n",
    "    for k,v in dic_is_considered.items():\n",
    "        consensus.append(v)\n",
    "    return consensus"
   ]
  },
  {
   "cell_type": "code",
   "execution_count": null,
   "id": "f67d89f4",
   "metadata": {},
   "outputs": [],
   "source": []
  }
 ],
 "metadata": {
  "kernelspec": {
   "display_name": "Python [conda env:bioinfo]",
   "language": "python",
   "name": "conda-env-bioinfo-py"
  },
  "language_info": {
   "codemirror_mode": {
    "name": "ipython",
    "version": 3
   },
   "file_extension": ".py",
   "mimetype": "text/x-python",
   "name": "python",
   "nbconvert_exporter": "python",
   "pygments_lexer": "ipython3",
   "version": "3.9.5"
  }
 },
 "nbformat": 4,
 "nbformat_minor": 5
}
