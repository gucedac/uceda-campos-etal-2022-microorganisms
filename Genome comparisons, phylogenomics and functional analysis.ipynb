{
 "cells": [
  {
   "cell_type": "markdown",
   "id": "f4aafe07",
   "metadata": {},
   "source": [
    "### **GTACG analysis**"
   ]
  },
  {
   "cell_type": "code",
   "execution_count": null,
   "id": "b9b49dc8",
   "metadata": {},
   "outputs": [],
   "source": [
    "# to specific details about the input files see:\n",
    "# https://github.com/caiorns/GTACG-backend"
   ]
  },
  {
   "cell_type": "code",
   "execution_count": 1,
   "id": "9ec142d1",
   "metadata": {},
   "outputs": [
    {
     "name": "stdout",
     "output_type": "stream",
     "text": [
      "java -jar GTACG.jar ExportAllSequences -dic input_genomes.dic -dicFormat faa -out input_genomes.faa\n"
     ]
    }
   ],
   "source": [
    "# 1. list all CDS\n",
    "dic_file  = 'input_genomes.dic'\n",
    "input_faa = 'input_genomes.faa'\n",
    "print('java -jar GTACG.jar ExportAllSequences -dic '+dic_file+' -dicFormat faa -out '+input_faa)"
   ]
  },
  {
   "cell_type": "code",
   "execution_count": 2,
   "id": "cf1fd3a3",
   "metadata": {},
   "outputs": [
    {
     "name": "stdout",
     "output_type": "stream",
     "text": [
      "makeblastdb -dbtype prot -in input_genomes.faa -out blast/input_genomes.faa.db\n",
      "\n",
      "cat input_genomes.faa | parallel --block 50k -j 10 --recstart \"\n",
      ">\" --pipe blastp -evalue 0.0000000001 -outfmt 6 -db blast/input_genomes.faa.db -num_alignments 1000 -query - > input_genomes.faa.m8 \n",
      "\n",
      "gzip input_genomes.faa.m8\n"
     ]
    }
   ],
   "source": [
    "# 2. blast and zip results\n",
    "\n",
    "input_db = 'blast/'+input_faa+'.db'\n",
    "\n",
    "print('makeblastdb -dbtype prot -in '+input_faa+' -out '+input_db+'\\n')\n",
    "out_blast = input_faa+'.m8'\n",
    "\n",
    "print('cat '+input_faa+' | parallel --block 50k -j 10 --recstart \"\\n>\" --pipe '+\n",
    "      'blastp -evalue 0.0000000001 -outfmt 6 -db '+input_db+' -num_alignments 1000 -query - > '+out_blast,'\\n')\n",
    "\n",
    "print('gzip '+out_blast)"
   ]
  },
  {
   "cell_type": "code",
   "execution_count": 3,
   "id": "a38e753f",
   "metadata": {},
   "outputs": [
    {
     "name": "stdout",
     "output_type": "stream",
     "text": [
      "java -jar GTACG.jar ExploratoryClustering -dic input_genomes.dic -dicFormat faa -m8 input_genomes.faa.m8.gz -start 45 -end 95 -threads 10 -interval 10\n"
     ]
    }
   ],
   "source": [
    "# 3. ExploratoryClustering\n",
    "blast_gz = out_blast+'.gz'\n",
    "print('java -jar GTACG.jar ExploratoryClustering -dic '+dic_file+' -dicFormat faa -m8 '+blast_gz+\n",
    "      ' -start 45 -end 95 -threads 10 -interval 10')"
   ]
  },
  {
   "cell_type": "code",
   "execution_count": 5,
   "id": "94698594",
   "metadata": {},
   "outputs": [
    {
     "name": "stdout",
     "output_type": "stream",
     "text": [
      "java -jar GTACG.jar ExportGraph -dic input_genomes.dic -dicFormat faa -m8 input_genomes.faa.m8.gz -rests 45.rests -out Xylella_45rests.graph -heads Xylella_45rests.heads\n"
     ]
    }
   ],
   "source": [
    "# 4. ExportGraph\n",
    "rests_file = '45.rests'\n",
    "graph      = 'Xylella_45rests.graph'\n",
    "heads_file = 'Xylella_45rests.heads'\n",
    "print('java -jar GTACG.jar ExportGraph -dic '+dic_file+' -dicFormat faa -m8 '+blast_gz+\n",
    "      ' -rests '+rests_file+' -out '+graph+' -heads '+heads_file)"
   ]
  },
  {
   "cell_type": "code",
   "execution_count": 6,
   "id": "61bd40b4",
   "metadata": {},
   "outputs": [
    {
     "name": "stdout",
     "output_type": "stream",
     "text": [
      "gzip Xylella_45rests.graph\n"
     ]
    }
   ],
   "source": [
    "# 5. Compressing graph file\n",
    "graph_file = graph+'.gz'\n",
    "print('gzip '+graph)"
   ]
  },
  {
   "cell_type": "code",
   "execution_count": 7,
   "id": "0e79acb4",
   "metadata": {},
   "outputs": [
    {
     "name": "stdout",
     "output_type": "stream",
     "text": [
      "java -jar GTACG.jar ExportTreeFiles -dic input_genomes.dic -dicFormat faa -graph Xylella_45rests.graph.gz -heads Xylella_45rests.heads -align clustalO -tree fastTree -threads 10 -out Xylella_45rests_trees\n"
     ]
    }
   ],
   "source": [
    "# 6. ExportTreeFiles\n",
    "trees_folder = 'Xylella_45rests_trees'\n",
    "print('java -jar GTACG.jar ExportTreeFiles -dic '+dic_file+' -dicFormat faa -graph '+graph_file+\n",
    "      ' -heads '+heads_file+' -align clustalO -tree fastTree -threads 10 -out '+trees_folder)"
   ]
  },
  {
   "cell_type": "code",
   "execution_count": 8,
   "id": "b01ca0a7",
   "metadata": {},
   "outputs": [
    {
     "name": "stdout",
     "output_type": "stream",
     "text": [
      "java -jar GTACG.jar ExportReport -dic input_genomes.dic -dicFormat faa -graph Xylella_45rests.graph.gz -heads Xylella_45rests.heads -trees Xylella_45rests_trees -out Xylella_45rests_CoreAln -threads 10 -printCoreAlignment \n"
     ]
    }
   ],
   "source": [
    "# 7. ExportReport (core alignment)\n",
    "groups     = 'country.group host.group st.group'\n",
    "data_folder_CoreAln = 'Xylella_45rests_CoreAln'\n",
    "print('java -jar GTACG.jar ExportReport -dic '+dic_file+' -dicFormat faa -graph '+graph_file+\n",
    "      ' -heads '+heads_file+' -trees '+trees_folder+' -out '+data_folder_CoreAln+' -threads 10'+\n",
    "      ' -printCoreAlignment ')"
   ]
  },
  {
   "cell_type": "code",
   "execution_count": 11,
   "id": "3ae0cfcd",
   "metadata": {},
   "outputs": [
    {
     "name": "stdout",
     "output_type": "stream",
     "text": [
      "java -jar GTACG.jar ExportReport -dic input_genomes.dic -dicFormat faa -graph Xylella_45rests.graph.gz -heads Xylella_45rests.heads -trees Xylella_45rests_trees -groups country.group host.group st.group -out Xylella_45rests_data -threads 10\n"
     ]
    }
   ],
   "source": [
    "# 8. ExportReport (data)\n",
    "data_folder = 'Xylella_45rests_data'\n",
    "print('java -jar GTACG.jar ExportReport -dic '+dic_file+' -dicFormat faa -graph '+graph_file+\n",
    "      ' -heads '+heads_file+' -trees '+trees_folder+' -groups '+groups+' -out '+data_folder+' -threads 10')"
   ]
  },
  {
   "cell_type": "markdown",
   "id": "31500396",
   "metadata": {},
   "source": [
    "### **Iq-tree analysis** "
   ]
  },
  {
   "cell_type": "code",
   "execution_count": 12,
   "id": "1548a168",
   "metadata": {},
   "outputs": [
    {
     "name": "stdout",
     "output_type": "stream",
     "text": [
      "iqtree-omp -s core_amino.align -bb 1000 -nt AUTO -m TESTMERGE\n"
     ]
    }
   ],
   "source": [
    "iqtree_command = 'iqtree-omp -s core_amino.align -bb 1000 -nt AUTO -m TESTMERGE'\n",
    "print(iqtree_command)"
   ]
  },
  {
   "cell_type": "markdown",
   "id": "afb177ff",
   "metadata": {},
   "source": [
    "### **COG analysis** "
   ]
  },
  {
   "cell_type": "code",
   "execution_count": 13,
   "id": "7b46d22a",
   "metadata": {},
   "outputs": [
    {
     "name": "stdout",
     "output_type": "stream",
     "text": [
      "rpsblast+ -db cog_database -query genome_Xf1.faa -out genome_Xf1.rpsblast -num_threads 10 -evalue 0.000001 -max_target_seqs 5 -max_hsps 1 -outfmt \"6 qseqid sseqid pident qcovs bitscore score evalue\"\n"
     ]
    }
   ],
   "source": [
    "query  = 'genome_Xf1.faa'\n",
    "output = 'genome_Xf1.rpsblast'\n",
    "rpsblast_line = 'rpsblast+ -db cog_database -query '+query+' -out '+output+' -num_threads 10 -evalue 0.000001 -max_target_seqs 5 -max_hsps 1 -outfmt \"6 qseqid sseqid pident qcovs bitscore score evalue\"'\n",
    "print(rpsblast_line)"
   ]
  },
  {
   "cell_type": "code",
   "execution_count": null,
   "id": "6b91c029",
   "metadata": {},
   "outputs": [],
   "source": []
  }
 ],
 "metadata": {
  "kernelspec": {
   "display_name": "Python [conda env:bioinfo]",
   "language": "python",
   "name": "conda-env-bioinfo-py"
  },
  "language_info": {
   "codemirror_mode": {
    "name": "ipython",
    "version": 3
   },
   "file_extension": ".py",
   "mimetype": "text/x-python",
   "name": "python",
   "nbconvert_exporter": "python",
   "pygments_lexer": "ipython3",
   "version": "3.9.5"
  }
 },
 "nbformat": 4,
 "nbformat_minor": 5
}
