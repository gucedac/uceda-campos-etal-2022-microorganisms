{
 "cells": [
  {
   "cell_type": "code",
   "execution_count": 147,
   "id": "d800cd46",
   "metadata": {},
   "outputs": [],
   "source": [
    "from Bio import Phylo\n",
    "from io import StringIO"
   ]
  },
  {
   "cell_type": "markdown",
   "id": "3755a99b",
   "metadata": {},
   "source": [
    "## Function to get the Mapping score (Smap) "
   ]
  },
  {
   "cell_type": "code",
   "execution_count": 293,
   "id": "db1873c2",
   "metadata": {},
   "outputs": [],
   "source": [
    "def mapping_traits(tree,dic_strain_host):\n",
    "    from collections import Counter\n",
    "    ''' This function use a tree Phylo object with a dictionary of the host of each strain (leaf)\n",
    "        and return an Score of mapping (Smap)  '''\n",
    "    # finding clades in the tree:\n",
    "    # E.g.: {'clade_1': ['Strain_1', 'Strain_2', 'Strain_3'], 'clade_2': ['Strain_4', 'Strain_5'], ... }\n",
    "    clades_found = find_clades(tree) # the description of this function is in the next cell\n",
    "    \n",
    "    # getting the host names of each leaf that belongs to each clade:\n",
    "    # E.g.: {'clade_1': ['Host_A', 'Host_A', 'Host_A'], 'clade_2': ['Host_B', 'Host_B'], ...}\n",
    "    dic_clade_hosts = {} \n",
    "    for k,v in clades_found.items():\n",
    "        hosts = []\n",
    "        for vi in v:\n",
    "            hosts.append(dic_strain_host[vi])\n",
    "        dic_clade_hosts[k] = hosts\n",
    "        \n",
    "    # counting the total of each hosts in the tree:\n",
    "    # E.g.: {'Host_C': 5, 'Host_A': 3, 'Host_B': 2}\n",
    "    dic_total_hosts = Counter(list(dic_strain_host.values()))\n",
    "    \n",
    "    # getting the number of host in the clade, number of leaf in the clade, number of host in the tree\n",
    "    # E.g.: {'clade_1': {'Host_A': [3, 3, 3]}, 'clade_2': {'Host_B': [2, 2, 2]} ... }\n",
    "    dic_clade_DictHostFreq = {}\n",
    "    for k,v in dic_clade_hosts.items():\n",
    "        counter_host = {}\n",
    "        for ki,vi in Counter(v).items():\n",
    "            counter_host[ki] = [vi , sum(list(Counter(v).values())) , dic_total_hosts[ki]]\n",
    "        dic_clade_DictHostFreq[k] = counter_host\n",
    "    \n",
    "    # getting the porportion of each host (weigth) in the tree\n",
    "    # E.g.: {'Host_A': 0.3, 'Host_B': 0.2, ... }\n",
    "    dic_host_w = {}\n",
    "    for k,v in dic_total_hosts.items():\n",
    "        dic_host_w[k] = v/sum(list(dic_total_hosts.values()))\n",
    "    \n",
    "    # getting the clades where the host is present\n",
    "    # E.g.: {'Host_A': [[3, 3, 3, 'clade_1']], 'Host_B': [[2, 2, 2, 'clade_2']], ... }\n",
    "    dic_host = {}\n",
    "    for k,v in dic_clade_DictHostFreq.items():\n",
    "        for kv , vv in v.items():\n",
    "            vv.append(k)\n",
    "            if kv in dic_host:\n",
    "                dic_host[kv].append(vv)\n",
    "            else:\n",
    "                dic_host[kv] = [vv]\n",
    "                \n",
    "    # getting the score of each host in the tree\n",
    "    # E.g.: {'Host_A': [0.3, 'clade_1'], 'Host_B': [0.2, 'clade_2'],  ... }\n",
    "    dic_host_norm = {}\n",
    "    for host , info in dic_host.items():\n",
    "        new_info = []\n",
    "        for i in info:\n",
    "            score1 = (i[0]/i[1])\n",
    "            score2 = (i[0]/i[2])\n",
    "            score_norm = round(score1*score2*dic_host_w[host] , 5)\n",
    "            new_info.append([score_norm , i[3]])\n",
    "        # retrieving the best score of the host\n",
    "        new_info.sort(key=lambda x: x[0],reverse=True)\n",
    "        dic_host_norm[host] = new_info[0]\n",
    "        print(host,': ',new_info[0][0],' (host score)')\n",
    "        \n",
    "    # calculing the score of mapping of the tree    \n",
    "    Smapp = sum(list(s[0] for s in list(dic_host_norm.values())))\n",
    "    print()\n",
    "    print('<< Smap: ',Smapp,' (Tree score) >>')\n",
    "    return Smapp"
   ]
  },
  {
   "cell_type": "markdown",
   "id": "b1f67a0b",
   "metadata": {},
   "source": [
    "## Function to find clades in a phylogenetic tree "
   ]
  },
  {
   "cell_type": "code",
   "execution_count": 294,
   "id": "82179aec",
   "metadata": {},
   "outputs": [],
   "source": [
    "def find_clades(tree):\n",
    "    import statistics as sta\n",
    "    ''' This function take a Phylo object and return a dictionary with the principal clades.\n",
    "           The criteria to consider one clade is:\n",
    "           'Leafs (external branchs) closely separated by internal branchs '''\n",
    "    # Rooting and ordering the tree topology\n",
    "    tree.root_at_midpoint()\n",
    "    tree.ladderize()\n",
    "    \n",
    "    # Making a list of the branch length and names of each element (internal and external branchs)\n",
    "    tree_list = []\n",
    "    for i in tree.find_clades():\n",
    "        tree_list.append([i.branch_length,i.name])\n",
    "\n",
    "    # Iterating each element of tree_list and deciding the integrants of a clade\n",
    "    i , j = 0 , 0\n",
    "    temporal_dic_clades = {}\n",
    "    while i < len(tree_list):\n",
    "        j = i\n",
    "        # In the following while could be use the branch length (tree_list[j][0])\n",
    "        # to more resolution of the clades found (after evaluation of the total branchs in the tree)\n",
    "        while j < len(tree_list) and tree_list[j][1] != None:\n",
    "            key = \"clade_number_temporal\"+str(i)\n",
    "            value = tree_list[j][1]\n",
    "            if not key in temporal_dic_clades:\n",
    "                temporal_dic_clades[key] = [value]\n",
    "            else:\n",
    "                temporal_dic_clades[key].append(value)\n",
    "            j += 1\n",
    "        if j > i:\n",
    "            i = j\n",
    "        else:\n",
    "            i += 1\n",
    "    # Iterating the dictionary to change the key temporal names\n",
    "    final_dic_clades , c = {} , 0\n",
    "    for k,v in temporal_dic_clades.items():\n",
    "        c += 1\n",
    "        final_dic_clades['clade_'+str(c)] = v\n",
    "    return final_dic_clades"
   ]
  },
  {
   "cell_type": "code",
   "execution_count": null,
   "id": "07c008da",
   "metadata": {},
   "outputs": [],
   "source": []
  },
  {
   "cell_type": "markdown",
   "id": "b0bdb33c",
   "metadata": {},
   "source": [
    "## Examples"
   ]
  },
  {
   "cell_type": "code",
   "execution_count": 295,
   "id": "f2bf9d14",
   "metadata": {},
   "outputs": [],
   "source": [
    "# tree in newick format\n",
    "tree_nwk = '((Strain_5:0.0001,Strain_4:0.0001):0.001,(Strain_1:0.0001,Strain_3:0.0001,\\\n",
    "            Strain_2:0.0001):0.005321864,(Strain_10:0.0001,Strain_9:0.0001,Strain_8:0.0001,Strain_7:0.0001,\\\n",
    "            Strain_6:0.0001):0.002)'"
   ]
  },
  {
   "cell_type": "code",
   "execution_count": 296,
   "id": "62b1235d",
   "metadata": {},
   "outputs": [
    {
     "data": {
      "image/png": "[encoded data removed]",
      "text/plain": [
       "<Figure size 432x288 with 1 Axes>"
      ]
     },
     "metadata": {
      "needs_background": "light"
     },
     "output_type": "display_data"
    }
   ],
   "source": [
    "# drawing the example tree\n",
    "tree = Phylo.read(StringIO(tree_nwk), 'newick')\n",
    "tree.root_at_midpoint()\n",
    "tree.ladderize(reverse=False)\n",
    "Phylo.draw(tree)"
   ]
  },
  {
   "cell_type": "markdown",
   "id": "43122753",
   "metadata": {},
   "source": [
    "**EXAMPLE 1 (Each host group mapped eactly in one clade)**<br>\n",
    "Strain_1 --> Host_A<br>Strain_2 --> Host_A<br>Strain_3 --> Host_A<br>Strain_4 --> Host_B<br>Strain_5 --> Host_B<br>Strain_6 --> Host_C<br>Strain_7 --> Host_C<br>Strain_8 --> Host_C<br>Strain_9 --> Host_C<br>Strain_10 --> Host_C"
   ]
  },
  {
   "cell_type": "code",
   "execution_count": 297,
   "id": "2498896b",
   "metadata": {},
   "outputs": [],
   "source": [
    "dic_strain_host_example1 = {'Strain_1':'Host_A','Strain_2':'Host_A','Strain_3':'Host_A',\n",
    "                            'Strain_4':'Host_B','Strain_5':'Host_B',\n",
    "                            'Strain_6':'Host_C','Strain_7':'Host_C','Strain_8':'Host_C','Strain_9':'Host_C','Strain_10':'Host_C'}"
   ]
  },
  {
   "cell_type": "code",
   "execution_count": 298,
   "id": "7072abeb",
   "metadata": {},
   "outputs": [
    {
     "name": "stdout",
     "output_type": "stream",
     "text": [
      "Host_A :  0.3  (host score)\n",
      "Host_B :  0.2  (host score)\n",
      "Host_C :  0.5  (host score)\n",
      "\n",
      "<< Smap:  1.0  (Tree score) >>\n"
     ]
    }
   ],
   "source": [
    "# Calculating the scores for the example 1\n",
    "Smap_example1 = mapping_traits(tree,dic_strain_host_example1)"
   ]
  },
  {
   "cell_type": "code",
   "execution_count": null,
   "id": "dd4894ce",
   "metadata": {},
   "outputs": [],
   "source": []
  },
  {
   "cell_type": "markdown",
   "id": "8a7ea407",
   "metadata": {},
   "source": [
    "**EXAMPLE 2 (The hosts mapped in different clades)**<br>\n",
    "Strain_1 --> Host_C<br>Strain_2 --> Host_C<br>Strain_3 --> Host_A<br>Strain_4 --> Host_B<br>Strain_5 --> Host_B<br>Strain_6 --> Host_A<br>Strain_7 --> Host_A<br>Strain_8 --> Host_C<br>Strain_9 --> Host_C<br>Strain_10 --> Host_C"
   ]
  },
  {
   "cell_type": "code",
   "execution_count": 299,
   "id": "7e88ce03",
   "metadata": {},
   "outputs": [],
   "source": [
    "dic_strain_host_example2 = {'Strain_1':'Host_C','Strain_2':'Host_C','Strain_3':'Host_A',\n",
    "                            'Strain_4':'Host_B','Strain_5':'Host_B',\n",
    "                            'Strain_6':'Host_A','Strain_7':'Host_A','Strain_8':'Host_C','Strain_9':'Host_C','Strain_10':'Host_C'}"
   ]
  },
  {
   "cell_type": "code",
   "execution_count": 301,
   "id": "74d1f03a",
   "metadata": {},
   "outputs": [
    {
     "name": "stdout",
     "output_type": "stream",
     "text": [
      "Host_C :  0.18  (host score)\n",
      "Host_A :  0.08  (host score)\n",
      "Host_B :  0.2  (host score)\n",
      "\n",
      "<< Smap:  0.46  (Tree score) >>\n"
     ]
    }
   ],
   "source": [
    "# Calculating the scores for the example 2\n",
    "Smap_example2 = mapping_traits(tree,dic_strain_host_example2)"
   ]
  },
  {
   "cell_type": "code",
   "execution_count": null,
   "id": "686e37ad",
   "metadata": {},
   "outputs": [],
   "source": []
  }
 ],
 "metadata": {
  "kernelspec": {
   "display_name": "Python [conda env:bioinfo]",
   "language": "python",
   "name": "conda-env-bioinfo-py"
  },
  "language_info": {
   "codemirror_mode": {
    "name": "ipython",
    "version": 3
   },
   "file_extension": ".py",
   "mimetype": "text/x-python",
   "name": "python",
   "nbconvert_exporter": "python",
   "pygments_lexer": "ipython3",
   "version": "3.9.5"
  }
 },
 "nbformat": 4,
 "nbformat_minor": 5
}
